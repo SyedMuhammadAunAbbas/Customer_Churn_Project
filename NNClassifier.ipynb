{
 "cells": [
  {
   "cell_type": "code",
   "execution_count": 1,
   "metadata": {},
   "outputs": [],
   "source": [
    "from tensorflow.keras.models import Sequential"
   ]
  },
  {
   "cell_type": "code",
   "execution_count": 2,
   "metadata": {},
   "outputs": [],
   "source": [
    "from tensorflow.keras.layers import Dense\n",
    "import warnings\n",
    "warnings.filterwarnings('ignore')\n",
    "import numpy as np\n",
    "import pandas as pd\n",
    "from matplotlib import pyplot as plt\n",
    "import seaborn as sns\n",
    "from sklearn.preprocessing import ( StandardScaler,\n",
    "                                    OneHotEncoder, OrdinalEncoder\n",
    "                                    )\n",
    "from sklearn.compose import ColumnTransformer\n",
    "from sklearn.pipeline import(   \n",
    "                                Pipeline,\n",
    "                                make_pipeline\n",
    "                            )\n",
    "from sklearn.model_selection import train_test_split\n",
    "from imblearn.over_sampling import SMOTE\n",
    "from sklearn.ensemble import RandomForestClassifier\n",
    "from imblearn.pipeline import Pipeline as ImbPipeline"
   ]
  },
  {
   "cell_type": "code",
   "execution_count": 3,
   "metadata": {},
   "outputs": [],
   "source": [
    "import tensorflow as tf\n",
    "from sklearn.compose import ColumnTransformer\n",
    "from sklearn.pipeline import Pipeline\n",
    "from sklearn.preprocessing import StandardScaler, OneHotEncoder\n",
    "from scikeras.wrappers import KerasClassifier"
   ]
  },
  {
   "cell_type": "code",
   "execution_count": 4,
   "metadata": {},
   "outputs": [],
   "source": [
    "df= pd.concat([\n",
    "    pd.read_csv('customer_churn_dataset-training-master.csv'),\n",
    "    pd.read_csv('customer_churn_dataset-testing-master.csv')\n",
    "],\n",
    "    axis=0)\n",
    "\n",
    "df.reset_index(drop= True, inplace= True)\n",
    "df= df.dropna()"
   ]
  },
  {
   "cell_type": "code",
   "execution_count": 5,
   "metadata": {},
   "outputs": [],
   "source": [
    "subscription_map = {\n",
    "    'Basic': 3,\n",
    "    'Premium': 1,\n",
    "    'Standard': 2\n",
    "}\n",
    "\n",
    "contract_map = {\n",
    "    'Annual': 2,\n",
    "    'Monthly': 3,\n",
    "    'Quarterly': 1\n",
    "}\n",
    "df['Subscription Type']=df['Subscription Type'].map(subscription_map)\n",
    "df['Contract Length']=df['Contract Length'].map(contract_map)\n",
    "\n",
    "df['Subscription_Contract'] = (df['Subscription Type']  + (df['Contract Length']-1)**2) "
   ]
  },
  {
   "cell_type": "code",
   "execution_count": 6,
   "metadata": {},
   "outputs": [],
   "source": [
    "Irr_cols= ['CustomerID', 'Subscription Type', 'Contract Length']\n",
    "df=df.drop(columns= Irr_cols, axis=1)\n"
   ]
  },
  {
   "cell_type": "code",
   "execution_count": 7,
   "metadata": {},
   "outputs": [
    {
     "name": "stdout",
     "output_type": "stream",
     "text": [
      "<class 'pandas.core.frame.DataFrame'>\n",
      "Index: 505206 entries, 0 to 505206\n",
      "Data columns (total 10 columns):\n",
      " #   Column                 Non-Null Count   Dtype  \n",
      "---  ------                 --------------   -----  \n",
      " 0   Age                    505206 non-null  float64\n",
      " 1   Gender                 505206 non-null  object \n",
      " 2   Tenure                 505206 non-null  float64\n",
      " 3   Usage Frequency        505206 non-null  float64\n",
      " 4   Support Calls          505206 non-null  float64\n",
      " 5   Payment Delay          505206 non-null  float64\n",
      " 6   Total Spend            505206 non-null  float64\n",
      " 7   Last Interaction       505206 non-null  float64\n",
      " 8   Churn                  505206 non-null  float64\n",
      " 9   Subscription_Contract  505206 non-null  int64  \n",
      "dtypes: float64(8), int64(1), object(1)\n",
      "memory usage: 42.4+ MB\n"
     ]
    }
   ],
   "source": [
    "df.info()"
   ]
  },
  {
   "cell_type": "code",
   "execution_count": 8,
   "metadata": {},
   "outputs": [],
   "source": [
    "X = df.drop('Churn', axis=1)\n",
    "y = df['Churn']"
   ]
  },
  {
   "cell_type": "code",
   "execution_count": 9,
   "metadata": {},
   "outputs": [],
   "source": [
    "X_train, X_test, y_train, y_test = train_test_split(X, y, test_size=0.2,  random_state=42,  stratify=y) "
   ]
  },
  {
   "cell_type": "code",
   "execution_count": 10,
   "metadata": {},
   "outputs": [],
   "source": [
    "numerical_features = [\n",
    "    'Age', 'Tenure', 'Usage Frequency', 'Support Calls',\n",
    "    'Payment Delay', 'Total Spend', 'Last Interaction', 'Subscription_Contract'\n",
    "]\n",
    "categorical_features_ohe = ['Gender']\n",
    "\n",
    "\n",
    "num_pipeline = Pipeline(steps=[\n",
    "    ('scale', StandardScaler())\n",
    "])\n",
    "\n",
    "ohe_pipeline = Pipeline(steps=[\n",
    "    ('one-hot', OneHotEncoder(handle_unknown='ignore', sparse_output=False))\n",
    "])\n",
    "\n",
    "\n",
    "column_transformer = ColumnTransformer(\n",
    "    transformers=[\n",
    "        ('num', num_pipeline, numerical_features),\n",
    "        ('cat', ohe_pipeline, categorical_features_ohe)\n",
    "    ],\n",
    "    remainder='drop',\n",
    "    n_jobs=-1\n",
    ")\n",
    "\n",
    "\n",
    "def build_nn(input_shape):\n",
    "    model = tf.keras.Sequential([\n",
    "        tf.keras.layers.InputLayer(input_shape=(input_shape,)),  \n",
    "        tf.keras.layers.Dense(54, activation='relu'),  \n",
    "        tf.keras.layers.Dense(24, activation='relu'),  \n",
    "        tf.keras.layers.Dense(1, activation='sigmoid')  \n",
    "    ])\n",
    "    model.compile(optimizer='adam', loss='binary_crossentropy', metrics=['accuracy'])\n",
    "    return model\n",
    "\n",
    "X_transformed = column_transformer.fit_transform(X_train)\n",
    "input_shape = X_transformed.shape[1]  \n",
    "\n",
    "nn_classifier = KerasClassifier(\n",
    "    model=lambda: build_nn(input_shape),\n",
    "    epochs=20,\n",
    "    batch_size=32,\n",
    "    verbose=1\n",
    ")\n",
    "\n",
    "\n",
    "pipeline = Pipeline(steps=[\n",
    "    ('preprocessor', column_transformer),  \n",
    "    ('classifier', nn_classifier) \n",
    "])\n",
    "\n"
   ]
  },
  {
   "cell_type": "code",
   "execution_count": 11,
   "metadata": {},
   "outputs": [
    {
     "name": "stdout",
     "output_type": "stream",
     "text": [
      "Epoch 1/20\n",
      "\u001b[1m12631/12631\u001b[0m \u001b[32m━━━━━━━━━━━━━━━━━━━━\u001b[0m\u001b[37m\u001b[0m \u001b[1m8s\u001b[0m 543us/step - accuracy: 0.8983 - loss: 0.2835\n",
      "Epoch 2/20\n",
      "\u001b[1m12631/12631\u001b[0m \u001b[32m━━━━━━━━━━━━━━━━━━━━\u001b[0m\u001b[37m\u001b[0m \u001b[1m9s\u001b[0m 745us/step - accuracy: 0.9293 - loss: 0.2123\n",
      "Epoch 3/20\n",
      "\u001b[1m12631/12631\u001b[0m \u001b[32m━━━━━━━━━━━━━━━━━━━━\u001b[0m\u001b[37m\u001b[0m \u001b[1m7s\u001b[0m 588us/step - accuracy: 0.9315 - loss: 0.2023\n",
      "Epoch 4/20\n",
      "\u001b[1m12631/12631\u001b[0m \u001b[32m━━━━━━━━━━━━━━━━━━━━\u001b[0m\u001b[37m\u001b[0m \u001b[1m8s\u001b[0m 620us/step - accuracy: 0.9328 - loss: 0.1977\n",
      "Epoch 5/20\n",
      "\u001b[1m12631/12631\u001b[0m \u001b[32m━━━━━━━━━━━━━━━━━━━━\u001b[0m\u001b[37m\u001b[0m \u001b[1m7s\u001b[0m 569us/step - accuracy: 0.9329 - loss: 0.1952\n",
      "Epoch 6/20\n",
      "\u001b[1m12631/12631\u001b[0m \u001b[32m━━━━━━━━━━━━━━━━━━━━\u001b[0m\u001b[37m\u001b[0m \u001b[1m8s\u001b[0m 597us/step - accuracy: 0.9343 - loss: 0.1906\n",
      "Epoch 7/20\n",
      "\u001b[1m12631/12631\u001b[0m \u001b[32m━━━━━━━━━━━━━━━━━━━━\u001b[0m\u001b[37m\u001b[0m \u001b[1m7s\u001b[0m 584us/step - accuracy: 0.9339 - loss: 0.1910\n",
      "Epoch 8/20\n",
      "\u001b[1m12631/12631\u001b[0m \u001b[32m━━━━━━━━━━━━━━━━━━━━\u001b[0m\u001b[37m\u001b[0m \u001b[1m7s\u001b[0m 532us/step - accuracy: 0.9342 - loss: 0.1898\n",
      "Epoch 9/20\n",
      "\u001b[1m12631/12631\u001b[0m \u001b[32m━━━━━━━━━━━━━━━━━━━━\u001b[0m\u001b[37m\u001b[0m \u001b[1m7s\u001b[0m 525us/step - accuracy: 0.9354 - loss: 0.1875\n",
      "Epoch 10/20\n",
      "\u001b[1m12631/12631\u001b[0m \u001b[32m━━━━━━━━━━━━━━━━━━━━\u001b[0m\u001b[37m\u001b[0m \u001b[1m7s\u001b[0m 565us/step - accuracy: 0.9343 - loss: 0.1892\n",
      "Epoch 11/20\n",
      "\u001b[1m12631/12631\u001b[0m \u001b[32m━━━━━━━━━━━━━━━━━━━━\u001b[0m\u001b[37m\u001b[0m \u001b[1m7s\u001b[0m 548us/step - accuracy: 0.9344 - loss: 0.1888\n",
      "Epoch 12/20\n",
      "\u001b[1m12631/12631\u001b[0m \u001b[32m━━━━━━━━━━━━━━━━━━━━\u001b[0m\u001b[37m\u001b[0m \u001b[1m7s\u001b[0m 573us/step - accuracy: 0.9345 - loss: 0.1889\n",
      "Epoch 13/20\n",
      "\u001b[1m12631/12631\u001b[0m \u001b[32m━━━━━━━━━━━━━━━━━━━━\u001b[0m\u001b[37m\u001b[0m \u001b[1m7s\u001b[0m 535us/step - accuracy: 0.9347 - loss: 0.1881\n",
      "Epoch 14/20\n",
      "\u001b[1m12631/12631\u001b[0m \u001b[32m━━━━━━━━━━━━━━━━━━━━\u001b[0m\u001b[37m\u001b[0m \u001b[1m7s\u001b[0m 524us/step - accuracy: 0.9348 - loss: 0.1878\n",
      "Epoch 15/20\n",
      "\u001b[1m12631/12631\u001b[0m \u001b[32m━━━━━━━━━━━━━━━━━━━━\u001b[0m\u001b[37m\u001b[0m \u001b[1m6s\u001b[0m 512us/step - accuracy: 0.9351 - loss: 0.1872\n",
      "Epoch 16/20\n",
      "\u001b[1m12631/12631\u001b[0m \u001b[32m━━━━━━━━━━━━━━━━━━━━\u001b[0m\u001b[37m\u001b[0m \u001b[1m7s\u001b[0m 529us/step - accuracy: 0.9350 - loss: 0.1870\n",
      "Epoch 17/20\n",
      "\u001b[1m12631/12631\u001b[0m \u001b[32m━━━━━━━━━━━━━━━━━━━━\u001b[0m\u001b[37m\u001b[0m \u001b[1m6s\u001b[0m 504us/step - accuracy: 0.9346 - loss: 0.1880\n",
      "Epoch 18/20\n",
      "\u001b[1m12631/12631\u001b[0m \u001b[32m━━━━━━━━━━━━━━━━━━━━\u001b[0m\u001b[37m\u001b[0m \u001b[1m6s\u001b[0m 503us/step - accuracy: 0.9357 - loss: 0.1860\n",
      "Epoch 19/20\n",
      "\u001b[1m12631/12631\u001b[0m \u001b[32m━━━━━━━━━━━━━━━━━━━━\u001b[0m\u001b[37m\u001b[0m \u001b[1m7s\u001b[0m 515us/step - accuracy: 0.9352 - loss: 0.1865\n",
      "Epoch 20/20\n",
      "\u001b[1m12631/12631\u001b[0m \u001b[32m━━━━━━━━━━━━━━━━━━━━\u001b[0m\u001b[37m\u001b[0m \u001b[1m7s\u001b[0m 529us/step - accuracy: 0.9354 - loss: 0.1860\n",
      "\u001b[1m3158/3158\u001b[0m \u001b[32m━━━━━━━━━━━━━━━━━━━━\u001b[0m\u001b[37m\u001b[0m \u001b[1m1s\u001b[0m 428us/step\n"
     ]
    }
   ],
   "source": [
    "\n",
    "pipeline.fit(X_train, y_train)\n",
    "\n",
    "y_pred = pipeline.predict(X_test)\n"
   ]
  },
  {
   "cell_type": "code",
   "execution_count": 12,
   "metadata": {},
   "outputs": [
    {
     "data": {
      "text/plain": [
       "0.9352942340808773"
      ]
     },
     "execution_count": 12,
     "metadata": {},
     "output_type": "execute_result"
    }
   ],
   "source": [
    "from sklearn.metrics import accuracy_score, precision_score, recall_score, f1_score\n",
    "accuracy_score(y_test, y_pred)\n",
    "\n"
   ]
  },
  {
   "cell_type": "code",
   "execution_count": 13,
   "metadata": {},
   "outputs": [
    {
     "data": {
      "text/plain": [
       "0.8984067267962508"
      ]
     },
     "execution_count": 13,
     "metadata": {},
     "output_type": "execute_result"
    }
   ],
   "source": [
    "precision_score(y_test, y_pred)"
   ]
  },
  {
   "cell_type": "code",
   "execution_count": 14,
   "metadata": {},
   "outputs": [
    {
     "data": {
      "text/plain": [
       "0.9960961870978092"
      ]
     },
     "execution_count": 14,
     "metadata": {},
     "output_type": "execute_result"
    }
   ],
   "source": [
    "recall_score(y_test, y_pred)"
   ]
  },
  {
   "cell_type": "code",
   "execution_count": null,
   "metadata": {},
   "outputs": [],
   "source": []
  }
 ],
 "metadata": {
  "kernelspec": {
   "display_name": "Python 3",
   "language": "python",
   "name": "python3"
  },
  "language_info": {
   "codemirror_mode": {
    "name": "ipython",
    "version": 3
   },
   "file_extension": ".py",
   "mimetype": "text/x-python",
   "name": "python",
   "nbconvert_exporter": "python",
   "pygments_lexer": "ipython3",
   "version": "3.11.8"
  }
 },
 "nbformat": 4,
 "nbformat_minor": 2
}
